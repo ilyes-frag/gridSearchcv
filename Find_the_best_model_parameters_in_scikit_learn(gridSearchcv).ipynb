{
  "nbformat": 4,
  "nbformat_minor": 0,
  "metadata": {
    "colab": {
      "name": "Find the best model parameters in scikit-learn(gridSearchcv)",
      "provenance": [],
      "collapsed_sections": [],
      "authorship_tag": "ABX9TyMxbDwUVX/QGPc00GKga066",
      "include_colab_link": true
    },
    "kernelspec": {
      "name": "python3",
      "display_name": "Python 3"
    }
  },
  "cells": [
    {
      "cell_type": "markdown",
      "metadata": {
        "id": "view-in-github",
        "colab_type": "text"
      },
      "source": [
        "<a href=\"https://colab.research.google.com/github/ilyes-frag/gridSearchcv/blob/main/Find_the_best_model_parameters_in_scikit_learn(gridSearchcv).ipynb\" target=\"_parent\"><img src=\"https://colab.research.google.com/assets/colab-badge.svg\" alt=\"Open In Colab\"/></a>"
      ]
    },
    {
      "cell_type": "code",
      "metadata": {
        "id": "mgvtaYjSrtAD"
      },
      "source": [
        "import pandas as pd \n",
        "import numpy as np\n",
        "import matplotlib.pyplot as plt\n",
        "from sklearn.datasets import load_iris\n",
        "from sklearn.neighbors import KNeighborsClassifier\n",
        "from sklearn.model_selection import cross_val_score\n"
      ],
      "execution_count": null,
      "outputs": []
    },
    {
      "cell_type": "code",
      "metadata": {
        "colab": {
          "base_uri": "https://localhost:8080/",
          "height": 316
        },
        "id": "zUgEBQ8Mte6J",
        "outputId": "9430d154-fd71-4fbf-ba32-df9757a1b182"
      },
      "source": [
        "iris=load_iris()\n",
        "X=iris.data\n",
        "y=iris.target\n",
        "k_range=range(1,31)\n",
        "k_scores=[]\n",
        "for k in k_range:\n",
        "\n",
        "  knn=KNeighborsClassifier(n_neighbors=k) \n",
        "  scores=cross_val_score(knn,X,y,cv=10,scoring='accuracy')\n",
        "  k_scores.append(scores.mean())\n",
        "print (k_scores)\n",
        "plt.plot(k_range,k_scores)\n",
        "plt.xlabel('value of k')\n",
        "plt.ylabel('score accuracy')\n",
        "plt.grid(axis='both')"
      ],
      "execution_count": null,
      "outputs": [
        {
          "output_type": "stream",
          "text": [
            "[0.96, 0.9533333333333334, 0.9666666666666666, 0.9666666666666666, 0.9666666666666668, 0.9666666666666668, 0.9666666666666668, 0.9666666666666668, 0.9733333333333334, 0.9666666666666668, 0.9666666666666668, 0.9733333333333334, 0.9800000000000001, 0.9733333333333334, 0.9733333333333334, 0.9733333333333334, 0.9733333333333334, 0.9800000000000001, 0.9733333333333334, 0.9800000000000001, 0.9666666666666666, 0.9666666666666666, 0.9733333333333334, 0.96, 0.9666666666666666, 0.96, 0.9666666666666666, 0.9533333333333334, 0.9533333333333334, 0.9533333333333334]\n"
          ],
          "name": "stdout"
        },
        {
          "output_type": "display_data",
          "data": {
            "image/png": "[encoded data removed]",
            "text/plain": [
              "<Figure size 432x288 with 1 Axes>"
            ]
          },
          "metadata": {
            "tags": [],
            "needs_background": "light"
          }
        }
      ]
    },
    {
      "cell_type": "markdown",
      "metadata": {
        "id": "H3jLUGag7x3n"
      },
      "source": [
        "#***use the GridsearchCv for tuning parameter***"
      ]
    },
    {
      "cell_type": "code",
      "metadata": {
        "id": "J05qTZ8M7uSj"
      },
      "source": [
        " #this fonction remplace the for loop above \n",
        " from sklearn.model_selection import GridSearchCV"
      ],
      "execution_count": null,
      "outputs": []
    },
    {
      "cell_type": "code",
      "metadata": {
        "colab": {
          "base_uri": "https://localhost:8080/"
        },
        "id": "9uHT7CsQ_XDK",
        "outputId": "bb15fff8-da0f-418c-ad2a-36375ee1592f"
      },
      "source": [
        "#DEFINE THE PARAMETRE VALUES THAT SHOULD BE SEARCHED\n",
        "k_range=range(1,31)\n",
        "print (k_range)"
      ],
      "execution_count": null,
      "outputs": [
        {
          "output_type": "stream",
          "text": [
            "range(1, 31)\n"
          ],
          "name": "stdout"
        }
      ]
    },
    {
      "cell_type": "code",
      "metadata": {
        "colab": {
          "base_uri": "https://localhost:8080/"
        },
        "id": "9oQQYi0MAI54",
        "outputId": "2c47c672-88f0-4c7a-b409-5fef8e120376"
      },
      "source": [
        "#creat a parameter grid :map the parameter names to the values that should be searched\n",
        "param_grid=dict(n_neighbors=k_range)\n",
        "print(param_grid)"
      ],
      "execution_count": null,
      "outputs": [
        {
          "output_type": "stream",
          "text": [
            "{'n_neighbors': range(1, 31)}\n"
          ],
          "name": "stdout"
        }
      ]
    },
    {
      "cell_type": "code",
      "metadata": {
        "id": "v_hR62DYCbdt"
      },
      "source": [
        "#intantiate the grid \n",
        "grid =GridSearchCV(knn,param_grid,cv=10,scoring='accuracy')"
      ],
      "execution_count": null,
      "outputs": []
    },
    {
      "cell_type": "code",
      "metadata": {
        "colab": {
          "base_uri": "https://localhost:8080/"
        },
        "id": "ypDJXvV_CtZh",
        "outputId": "be2b4be2-a607-43c1-dfea-cf40c5c50e10"
      },
      "source": [
        "grid.fit(X,y)"
      ],
      "execution_count": null,
      "outputs": [
        {
          "output_type": "execute_result",
          "data": {
            "text/plain": [
              "GridSearchCV(cv=10, error_score=nan,\n",
              "             estimator=KNeighborsClassifier(algorithm='auto', leaf_size=30,\n",
              "                                            metric='minkowski',\n",
              "                                            metric_params=None, n_jobs=None,\n",
              "                                            n_neighbors=30, p=2,\n",
              "                                            weights='uniform'),\n",
              "             iid='deprecated', n_jobs=None,\n",
              "             param_grid={'n_neighbors': range(1, 31)}, pre_dispatch='2*n_jobs',\n",
              "             refit=True, return_train_score=False, scoring='accuracy',\n",
              "             verbose=0)"
            ]
          },
          "metadata": {
            "tags": []
          },
          "execution_count": 48
        }
      ]
    },
    {
      "cell_type": "code",
      "metadata": {
        "id": "PuecmJ4RC6fV",
        "colab": {
          "base_uri": "https://localhost:8080/"
        },
        "outputId": "1114a89f-b45e-446b-bbc8-33442e4540ef"
      },
      "source": [
        "grid.cv_results_"
      ],
      "execution_count": null,
      "outputs": [
        {
          "output_type": "execute_result",
          "data": {
            "text/plain": [
              "{'mean_fit_time': array([0.00053155, 0.00043566, 0.00043111, 0.00041234, 0.00041811,\n",
              "        0.00041835, 0.0004154 , 0.00072432, 0.00049665, 0.00048251,\n",
              "        0.00048449, 0.00046818, 0.00043979, 0.00045242, 0.00044892,\n",
              "        0.00043862, 0.00053952, 0.00057359, 0.00045753, 0.00043559,\n",
              "        0.00042033, 0.00042613, 0.00049152, 0.00042794, 0.00042145,\n",
              "        0.00040908, 0.00042279, 0.00042479, 0.00045905, 0.00050054]),\n",
              " 'mean_score_time': array([0.00168295, 0.00121253, 0.00123084, 0.00117176, 0.00120416,\n",
              "        0.00123122, 0.0011764 , 0.00167592, 0.00149095, 0.00149415,\n",
              "        0.0013762 , 0.00137227, 0.00130475, 0.00131695, 0.00138836,\n",
              "        0.00131469, 0.00135968, 0.00151827, 0.00134671, 0.00135381,\n",
              "        0.00123484, 0.00125961, 0.0014457 , 0.00123456, 0.00127211,\n",
              "        0.00126638, 0.00131567, 0.00134268, 0.00140481, 0.00139306]),\n",
              " 'mean_test_score': array([0.96      , 0.95333333, 0.96666667, 0.96666667, 0.96666667,\n",
              "        0.96666667, 0.96666667, 0.96666667, 0.97333333, 0.96666667,\n",
              "        0.96666667, 0.97333333, 0.98      , 0.97333333, 0.97333333,\n",
              "        0.97333333, 0.97333333, 0.98      , 0.97333333, 0.98      ,\n",
              "        0.96666667, 0.96666667, 0.97333333, 0.96      , 0.96666667,\n",
              "        0.96      , 0.96666667, 0.95333333, 0.95333333, 0.95333333]),\n",
              " 'param_n_neighbors': masked_array(data=[1, 2, 3, 4, 5, 6, 7, 8, 9, 10, 11, 12, 13, 14, 15, 16,\n",
              "                    17, 18, 19, 20, 21, 22, 23, 24, 25, 26, 27, 28, 29, 30],\n",
              "              mask=[False, False, False, False, False, False, False, False,\n",
              "                    False, False, False, False, False, False, False, False,\n",
              "                    False, False, False, False, False, False, False, False,\n",
              "                    False, False, False, False, False, False],\n",
              "        fill_value='?',\n",
              "             dtype=object),\n",
              " 'params': [{'n_neighbors': 1},\n",
              "  {'n_neighbors': 2},\n",
              "  {'n_neighbors': 3},\n",
              "  {'n_neighbors': 4},\n",
              "  {'n_neighbors': 5},\n",
              "  {'n_neighbors': 6},\n",
              "  {'n_neighbors': 7},\n",
              "  {'n_neighbors': 8},\n",
              "  {'n_neighbors': 9},\n",
              "  {'n_neighbors': 10},\n",
              "  {'n_neighbors': 11},\n",
              "  {'n_neighbors': 12},\n",
              "  {'n_neighbors': 13},\n",
              "  {'n_neighbors': 14},\n",
              "  {'n_neighbors': 15},\n",
              "  {'n_neighbors': 16},\n",
              "  {'n_neighbors': 17},\n",
              "  {'n_neighbors': 18},\n",
              "  {'n_neighbors': 19},\n",
              "  {'n_neighbors': 20},\n",
              "  {'n_neighbors': 21},\n",
              "  {'n_neighbors': 22},\n",
              "  {'n_neighbors': 23},\n",
              "  {'n_neighbors': 24},\n",
              "  {'n_neighbors': 25},\n",
              "  {'n_neighbors': 26},\n",
              "  {'n_neighbors': 27},\n",
              "  {'n_neighbors': 28},\n",
              "  {'n_neighbors': 29},\n",
              "  {'n_neighbors': 30}],\n",
              " 'rank_test_score': array([24, 27, 18, 18, 12, 12, 12, 12,  4, 12, 12,  4,  1,  4,  4,  4,  4,\n",
              "         1,  4,  1, 18, 18,  4, 24, 18, 24, 18, 27, 27, 27], dtype=int32),\n",
              " 'split0_test_score': array([1.        , 1.        , 1.        , 1.        , 1.        ,\n",
              "        1.        , 1.        , 1.        , 1.        , 1.        ,\n",
              "        1.        , 1.        , 1.        , 1.        , 0.93333333,\n",
              "        1.        , 0.93333333, 1.        , 0.93333333, 1.        ,\n",
              "        0.93333333, 0.93333333, 0.93333333, 0.93333333, 0.93333333,\n",
              "        0.93333333, 0.93333333, 0.93333333, 0.93333333, 0.93333333]),\n",
              " 'split1_test_score': array([0.93333333, 0.93333333, 0.93333333, 0.93333333, 0.93333333,\n",
              "        0.93333333, 0.93333333, 0.93333333, 0.93333333, 0.93333333,\n",
              "        0.93333333, 0.93333333, 0.93333333, 0.93333333, 0.93333333,\n",
              "        0.93333333, 0.93333333, 0.93333333, 0.93333333, 0.93333333,\n",
              "        0.93333333, 0.93333333, 0.93333333, 0.93333333, 0.93333333,\n",
              "        0.93333333, 0.93333333, 0.93333333, 0.93333333, 0.93333333]),\n",
              " 'split2_test_score': array([1., 1., 1., 1., 1., 1., 1., 1., 1., 1., 1., 1., 1., 1., 1., 1., 1.,\n",
              "        1., 1., 1., 1., 1., 1., 1., 1., 1., 1., 1., 1., 1.]),\n",
              " 'split3_test_score': array([0.93333333, 0.93333333, 0.93333333, 0.93333333, 1.        ,\n",
              "        1.        , 1.        , 1.        , 1.        , 1.        ,\n",
              "        1.        , 1.        , 1.        , 1.        , 1.        ,\n",
              "        1.        , 1.        , 1.        , 1.        , 1.        ,\n",
              "        1.        , 1.        , 1.        , 1.        , 1.        ,\n",
              "        1.        , 1.        , 0.93333333, 0.93333333, 0.93333333]),\n",
              " 'split4_test_score': array([0.86666667, 0.86666667, 0.86666667, 0.86666667, 0.86666667,\n",
              "        0.86666667, 0.86666667, 1.        , 1.        , 1.        ,\n",
              "        1.        , 1.        , 1.        , 1.        , 1.        ,\n",
              "        1.        , 1.        , 1.        , 1.        , 1.        ,\n",
              "        0.93333333, 1.        , 1.        , 1.        , 1.        ,\n",
              "        1.        , 1.        , 1.        , 1.        , 1.        ]),\n",
              " 'split5_test_score': array([1.        , 1.        , 1.        , 1.        , 0.93333333,\n",
              "        0.93333333, 0.93333333, 0.86666667, 0.93333333, 0.86666667,\n",
              "        0.86666667, 0.93333333, 0.93333333, 0.86666667, 0.93333333,\n",
              "        0.93333333, 0.93333333, 0.93333333, 0.93333333, 0.93333333,\n",
              "        0.93333333, 0.93333333, 0.93333333, 0.86666667, 0.93333333,\n",
              "        0.86666667, 0.86666667, 0.86666667, 0.86666667, 0.86666667]),\n",
              " 'split6_test_score': array([0.86666667, 0.86666667, 0.93333333, 0.93333333, 0.93333333,\n",
              "        0.93333333, 0.93333333, 0.93333333, 0.93333333, 0.93333333,\n",
              "        0.93333333, 0.93333333, 0.93333333, 0.93333333, 0.93333333,\n",
              "        0.93333333, 0.93333333, 0.93333333, 0.93333333, 0.93333333,\n",
              "        0.93333333, 0.93333333, 0.93333333, 0.93333333, 0.93333333,\n",
              "        0.93333333, 0.93333333, 0.93333333, 0.93333333, 0.93333333]),\n",
              " 'split7_test_score': array([1.        , 0.93333333, 1.        , 1.        , 1.        ,\n",
              "        1.        , 1.        , 0.93333333, 0.93333333, 0.93333333,\n",
              "        0.93333333, 0.93333333, 1.        , 1.        , 1.        ,\n",
              "        0.93333333, 1.        , 1.        , 1.        , 1.        ,\n",
              "        1.        , 0.93333333, 1.        , 0.93333333, 0.93333333,\n",
              "        0.93333333, 1.        , 0.93333333, 0.93333333, 0.93333333]),\n",
              " 'split8_test_score': array([1., 1., 1., 1., 1., 1., 1., 1., 1., 1., 1., 1., 1., 1., 1., 1., 1.,\n",
              "        1., 1., 1., 1., 1., 1., 1., 1., 1., 1., 1., 1., 1.]),\n",
              " 'split9_test_score': array([1., 1., 1., 1., 1., 1., 1., 1., 1., 1., 1., 1., 1., 1., 1., 1., 1.,\n",
              "        1., 1., 1., 1., 1., 1., 1., 1., 1., 1., 1., 1., 1.]),\n",
              " 'std_fit_time': array([1.91544075e-04, 2.22412845e-05, 1.14881146e-05, 9.23160310e-06,\n",
              "        1.33118084e-05, 2.71072698e-05, 9.52782810e-06, 5.77679971e-04,\n",
              "        2.89935912e-05, 2.41737628e-05, 1.95867647e-05, 1.58019726e-05,\n",
              "        1.44774075e-05, 1.82075010e-05, 2.56122927e-05, 1.31951491e-05,\n",
              "        2.52110269e-04, 2.55373807e-04, 5.29757284e-05, 2.29395350e-05,\n",
              "        1.34781378e-05, 1.53646115e-05, 8.46320271e-05, 7.01327612e-06,\n",
              "        1.66726199e-05, 5.94499488e-06, 1.75431527e-05, 1.96847857e-05,\n",
              "        2.29700433e-05, 1.00143251e-04]),\n",
              " 'std_score_time': array([1.17447010e-03, 4.70146748e-05, 1.44421304e-04, 1.94055881e-05,\n",
              "        4.44026296e-05, 1.13340815e-04, 2.14602681e-05, 3.07802394e-04,\n",
              "        1.57655599e-04, 9.25924237e-05, 3.44898331e-05, 6.12033124e-05,\n",
              "        1.49464872e-05, 3.11823885e-05, 1.68643787e-04, 1.78797403e-05,\n",
              "        1.03410988e-04, 2.72765264e-04, 1.18176336e-04, 1.52638623e-04,\n",
              "        1.75794055e-05, 8.83431276e-05, 2.89475406e-04, 1.11601544e-05,\n",
              "        6.81712224e-05, 3.20901488e-05, 1.07878548e-04, 1.57067880e-04,\n",
              "        1.48266524e-04, 2.30064576e-04]),\n",
              " 'std_test_score': array([0.05333333, 0.05206833, 0.04472136, 0.04472136, 0.04472136,\n",
              "        0.04472136, 0.04472136, 0.04472136, 0.03265986, 0.04472136,\n",
              "        0.04472136, 0.03265986, 0.0305505 , 0.04422166, 0.03265986,\n",
              "        0.03265986, 0.03265986, 0.0305505 , 0.03265986, 0.0305505 ,\n",
              "        0.03333333, 0.03333333, 0.03265986, 0.04422166, 0.03333333,\n",
              "        0.04422166, 0.04472136, 0.04268749, 0.04268749, 0.04268749])}"
            ]
          },
          "metadata": {
            "tags": []
          },
          "execution_count": 49
        }
      ]
    },
    {
      "cell_type": "code",
      "metadata": {
        "colab": {
          "base_uri": "https://localhost:8080/"
        },
        "id": "n0HBS9dtDzVE",
        "outputId": "651926cf-2071-4a2e-9034-dfb4466e99a4"
      },
      "source": [
        "#grid_mean_scores=[result.mean_test_score for result in grid.cv_results_]\n",
        "grid_mean_scores= grid.cv_results_['mean_test_score']\n",
        "print (grid_mean_scores)"
      ],
      "execution_count": null,
      "outputs": [
        {
          "output_type": "stream",
          "text": [
            "[0.96       0.95333333 0.96666667 0.96666667 0.96666667 0.96666667\n",
            " 0.96666667 0.96666667 0.97333333 0.96666667 0.96666667 0.97333333\n",
            " 0.98       0.97333333 0.97333333 0.97333333 0.97333333 0.98\n",
            " 0.97333333 0.98       0.96666667 0.96666667 0.97333333 0.96\n",
            " 0.96666667 0.96       0.96666667 0.95333333 0.95333333 0.95333333]\n"
          ],
          "name": "stdout"
        }
      ]
    },
    {
      "cell_type": "code",
      "metadata": {
        "colab": {
          "base_uri": "https://localhost:8080/",
          "height": 279
        },
        "id": "f_0ROBcwbmcy",
        "outputId": "67b057bc-2eaa-4ab0-bd4b-00d1de2da79a"
      },
      "source": [
        "plt.plot(k_range,grid_mean_scores)\n",
        "plt.xlabel('value of k for knn')\n",
        "plt.ylabel('cross-validation accuracy')\n",
        "plt.grid()"
      ],
      "execution_count": null,
      "outputs": [
        {
          "output_type": "display_data",
          "data": {
            "image/png": "[encoded data removed]",
            "text/plain": [
              "<Figure size 432x288 with 1 Axes>"
            ]
          },
          "metadata": {
            "tags": [],
            "needs_background": "light"
          }
        }
      ]
    },
    {
      "cell_type": "code",
      "metadata": {
        "colab": {
          "base_uri": "https://localhost:8080/"
        },
        "id": "tXvDna0nb75_",
        "outputId": "e9ad284e-5e84-4073-f05c-74b6eb677d78"
      },
      "source": [
        "grid_best=grid.best_score_\n",
        "print(grid_best)\n",
        "grid_param=grid.best_params_\n",
        "print(grid_param)\n",
        "grid_estimator=grid.best_estimator_\n",
        "print(grid_estimator)\n",
        "\n"
      ],
      "execution_count": null,
      "outputs": [
        {
          "output_type": "stream",
          "text": [
            "0.9800000000000001\n",
            "{'n_neighbors': 13}\n",
            "KNeighborsClassifier(algorithm='auto', leaf_size=30, metric='minkowski',\n",
            "                     metric_params=None, n_jobs=None, n_neighbors=13, p=2,\n",
            "                     weights='uniform')\n"
          ],
          "name": "stdout"
        }
      ]
    },
    {
      "cell_type": "markdown",
      "metadata": {
        "id": "cIKKG1jNd3gq"
      },
      "source": [
        "#**searching multiple parameters simultaneously**"
      ]
    },
    {
      "cell_type": "code",
      "metadata": {
        "id": "kSN6Wy7CeEd2"
      },
      "source": [
        "#define the parameter values that should be searched\n",
        "k_range=range(1,31)\n",
        "weight_options=['uniform','distance']"
      ],
      "execution_count": null,
      "outputs": []
    },
    {
      "cell_type": "code",
      "metadata": {
        "id": "LgyZ9q-XeZUQ"
      },
      "source": [
        "param_grid=(knn,{n_eighbors=k_range,weights=weight_options},cv=10,scoring='accuracy')\n",
        "grid.fit(X, y)\n",
        "print(param_grid)"
      ],
      "execution_count": null,
      "outputs": []
    },
    {
      "cell_type": "code",
      "metadata": {
        "id": "Rdpybm-geymp"
      },
      "source": [
        "grid.fit(X, y)"
      ],
      "execution_count": null,
      "outputs": []
    },
    {
      "cell_type": "code",
      "metadata": {
        "id": "QtVEQZ3r9yqt"
      },
      "source": [
        " print(estimator.get_params().keys())"
      ],
      "execution_count": null,
      "outputs": []
    },
    {
      "cell_type": "markdown",
      "metadata": {
        "id": "65Hta_ohGTyW"
      },
      "source": [
        "# **Reducing computational expense using RandomizedSearchCV**"
      ]
    },
    {
      "cell_type": "code",
      "metadata": {
        "id": "w3tSqGmtNeNz"
      },
      "source": [
        "from sklearn.grid_search import RandomizedSearchCV"
      ],
      "execution_count": null,
      "outputs": []
    },
    {
      "cell_type": "code",
      "metadata": {
        "id": "4V40J7_YNp1v"
      },
      "source": [
        "parm_dist= dict(n_neighbors=k_range,weights=weight_options) "
      ],
      "execution_count": null,
      "outputs": []
    },
    {
      "cell_type": "code",
      "metadata": {
        "id": "J9wIdvGZN4qa"
      },
      "source": [
        "#n_iter controls the number of search\n",
        "rand=randomizedSearchCV(knn,param_dist,cv=10,scoring='accuracy',n_iter=10,random_state=5)\n",
        "rand.fit(X,y)\n",
        "rand.grid_scores_"
      ],
      "execution_count": null,
      "outputs": []
    },
    {
      "cell_type": "code",
      "metadata": {
        "id": "-7ctE-VwQhBF"
      },
      "source": [
        "#examine the best model \n",
        "print rand.best_score_\n",
        "print rand.best_params_"
      ],
      "execution_count": null,
      "outputs": []
    },
    {
      "cell_type": "code",
      "metadata": {
        "id": "yA6jivP6QuaL"
      },
      "source": [
        "#run RandomizedSearchCV 20 times (with n_iter=10)and record the best score\n",
        "best_scores=[]\n",
        "for _in range(20):\n",
        "  rand=randomizedSearchCV(knn,param_dist,cv=10,scoring='accuracy',n_iter=10)\n",
        "  rand.fit(X,y)\n",
        "  vest_scores.append(round(rand.best_score_,3))\n",
        "  print best_scores\n"
      ],
      "execution_count": null,
      "outputs": []
    },
    {
      "cell_type": "code",
      "metadata": {
        "id": "LVe1TZ-1RICl"
      },
      "source": [
        ""
      ],
      "execution_count": null,
      "outputs": []
    }
  ]
}